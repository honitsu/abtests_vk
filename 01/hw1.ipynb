{
 "cells": [
  {
   "cell_type": "markdown",
   "id": "0fdde4a1",
   "metadata": {},
   "source": [
    "В этом задании вам необходимо:\n",
    "\n",
    "Реализовать t-критерий Стьюдента для 2 независимых выборок при условии неизвестной дисперсии. Необходимо считать значение статистики и p_value для разных видов гипотез (двусторонняя, односторонние), а также результат (отвергается нулевая гипотеза или нет). Сравнить результаты с реализацией в scipy.stats.ttest_ind. \n",
    "\n",
    "Реализовать bootstrap для оценки (через доверительные интервалы) медианных и средних значений распределений. Рассчитать для распределений: нормальное, экспоненциальное, смесь нормальных (параметры этих распределений на ваш выбор)\n",
    "Рассчитать мощность критерия для t-критерия и критерия Манна-Уитни для разных распределений и разном эффекте (распределение и эффект на выбор, 2 минимум). \n",
    "\n",
    "Оценить корректность t-критерия и критерия Манна-Уитни на 2-х разных распределениях.\n",
    "\n",
    "Пример распределений: нормальные, смеси нормальных, экспоненциальные, биномиальные."
   ]
  },
  {
   "cell_type": "code",
   "execution_count": 1,
   "id": "332e4497",
   "metadata": {},
   "outputs": [
    {
     "name": "stdout",
     "output_type": "stream",
     "text": [
      "Bootstrap confidence interval for the mean (normal distribution): (-0.08675865434184796, 0.03919020781408599)\n",
      "Bootstrap confidence interval for the median (normal distribution): (-0.0849950069584679, 0.06102788988874345)\n"
     ]
    }
   ],
   "source": [
    "import numpy as np\n",
    "import pandas as pd\n",
    "from scipy import stats\n",
    "from tqdm import tqdm  # Загрузка tqdm для отображения прогресса в циклах\n",
    "\n",
    "# Функция для бутстрэп оценок медианы и среднего\n",
    "def bootstrap(data, num_samples, statistic_func, alpha):\n",
    "    \"\"\"\n",
    "    Вычисляет доверительные интервалы для заданной статистики с помощью бутстрепа.\n",
    "\n",
    "    Args:\n",
    "        data (array): Исходный массив данных.\n",
    "        num_samples (int): Количество бутстреп-выборок.\n",
    "        statistic_func (callable): Функция статистики (например, np.mean или np.median).\n",
    "        alpha (float): Уровень значимости.\n",
    "\n",
    "    Returns:\n",
    "        tuple: Нижняя и верхняя границы доверительного интервала.\n",
    "    \"\"\"\n",
    "    \n",
    "    # Генерируем множество выборок и вычисляем статистику для каждой выборки\n",
    "    bootstrapped_stats = [statistic_func(np.random.choice(data, size=len(data))) for _ in range(num_samples)]\n",
    "    lower = np.percentile(bootstrapped_stats, 100 * alpha / 2)\n",
    "    upper = np.percentile(bootstrapped_stats, 100 * (1 - alpha / 2))\n",
    "    \n",
    "    return lower, upper\n",
    "\n",
    "# Функция для выполнения t-теста\n",
    "def ttest_2samp(x1, x2, alternative='two-sided'):\n",
    "    \"\"\"\n",
    "    Выполняет двухвыборочный t-тест Стьюдента для независимых выборок.\n",
    "\n",
    "    Args:\n",
    "        x1 (array): Первая выборка наблюдений.\n",
    "        x2 (array): Вторая выборка наблюдений.\n",
    "        alternative (str): Определяет альтернативную гипотезу ('two-sided', 'less', 'greater').\n",
    "\n",
    "    Returns:\n",
    "        float: t-статистика.\n",
    "        float: p-значение.\n",
    "        bool: Результат теста (True если нулевая гипотеза отвергается).\n",
    "    \"\"\"\n",
    "    \n",
    "    n1, n2 = len(x1), len(x2)\n",
    "    s1, s2 = x1.var(ddof=1), x2.var(ddof=1)\n",
    "    x_mean1, x_mean2 = x1.mean(), x2.mean()\n",
    "    \n",
    "    # Степени свободы\n",
    "    df = n1 + n2 - 2\n",
    "    \n",
    "    # Объединенная оценка дисперсии\n",
    "    sp2 = ((n1 - 1) * s1**2 + (n2 - 1) * s2**2) / df\n",
    "    \n",
    "    # Стандартная ошибка и t-статистика\n",
    "    SE = np.sqrt(s1/n1 + s2/n2)\n",
    "    t_statistic = (x_mean1 - x_mean2) / SE\n",
    "    dof = (s1/n1 + s2/n2)**2 / (s1**2/(n1**2*(n1-1)) + s2**2/(n2**2*(n2-1)))\n",
    "   \n",
    "    \n",
    "    # Выбор альтернативной гипотезы и расчет p-значения\n",
    "    if alternative == 'two-sided':\n",
    "        p_value = stats.t.sf(np.abs(t_statistic), dof) * 2\n",
    "    elif alternative == 'less':\n",
    "        p_value = stats.t.cdf(t_statistic, dof)\n",
    "    elif alternative == 'greater':\n",
    "        p_value = stats.t.sf(t_statistic, dof)\n",
    "    \n",
    "    # Отвержение нулевой гипотезы на уровне значимости 0.05\n",
    "    reject_null = p_value < 0.05\n",
    "    \n",
    "    return t_statistic, p_value, reject_null\n",
    "\n",
    "# Пример использования функции bootstrap для оценки среднего и медианы для нормального распределения\n",
    "data_normal = np.random.normal(0, 1, 1000)\n",
    "\n",
    "# Среднее значение\n",
    "mean_confidence_interval = bootstrap(data_normal, 10000, np.mean, 0.05)\n",
    "print(f'Bootstrap confidence interval for the mean (normal distribution): {mean_confidence_interval}')\n",
    "\n",
    "# Медиана\n",
    "median_confidence_interval = bootstrap(data_normal, 10000, np.median, 0.05)\n",
    "print(f'Bootstrap confidence interval for the median (normal distribution): {median_confidence_interval}')\n"
   ]
  },
  {
   "cell_type": "code",
   "execution_count": 2,
   "id": "ccd2710f",
   "metadata": {},
   "outputs": [
    {
     "name": "stdout",
     "output_type": "stream",
     "text": [
      "Мощность критерия: 0.9401\n",
      "Уровень ошибок первого рода: 0.049\n"
     ]
    }
   ],
   "source": [
    "from scipy.stats import ttest_ind, mannwhitneyu\n",
    "\n",
    "def simulate_ttest(dist1_params, dist2_params, num_simulations, alpha, effect_size):\n",
    "    power_count = 0\n",
    "    type1_error_count = 0\n",
    "    for _ in range(num_simulations):\n",
    "        # Генерация выборок\n",
    "        sample1 = np.random.normal(**dist1_params)\n",
    "        sample2 = np.random.normal(**dist2_params)\n",
    "        \n",
    "        # Расчёт эффекта (если нужен)\n",
    "        sample2 += effect_size\n",
    "\n",
    "        # Проведение t-теста\n",
    "        stat, p_value = ttest_ind(sample1, sample2)\n",
    "\n",
    "        # Проверка на значимость\n",
    "        if p_value < alpha:\n",
    "            power_count += 1\n",
    "        \n",
    "        # Проверка значимости без эффекта (для ошибок 1-го рода)\n",
    "        stat, p_value = ttest_ind(sample1, np.random.normal(**dist2_params))\n",
    "        if p_value < alpha:\n",
    "            type1_error_count += 1\n",
    "    \n",
    "    # Расчет мощности и уровня ошибок первого рода\n",
    "    power = power_count / num_simulations\n",
    "    type1_error_rate = type1_error_count / num_simulations\n",
    "\n",
    "    return power, type1_error_rate\n",
    "\n",
    "# Параметры для симуляции\n",
    "dist1_params = {'loc': 0, 'scale': 1, 'size': 100}  # Параметры для группы A\n",
    "dist2_params = {'loc': 0, 'scale': 1, 'size': 100}  # Параметры для группы B\n",
    "num_simulations = 10000\n",
    "alpha = 0.05\n",
    "effect_size = 0.5  # Размер эффекта\n",
    "\n",
    "# Запуск симуляции для t-теста\n",
    "power, type1_error_rate = simulate_ttest(dist1_params, dist2_params, num_simulations, alpha, effect_size)\n",
    "print(\"Мощность критерия:\", power)\n",
    "print(\"Уровень ошибок первого рода:\", type1_error_rate)\n"
   ]
  },
  {
   "cell_type": "code",
   "execution_count": 3,
   "id": "7a9f6c03",
   "metadata": {},
   "outputs": [
    {
     "name": "stdout",
     "output_type": "stream",
     "text": [
      "Estimated power (Mann-Whitney U): 0.4544\n",
      "Type I error rate (Mann-Whitney U): 0.0507\n"
     ]
    }
   ],
   "source": [
    "from scipy.stats import mannwhitneyu\n",
    "\n",
    "def simulate_mannwhitneyu(num_simulations, alpha, effect_size):\n",
    "    power_count = 0\n",
    "    type1_error_count = 0\n",
    "    for _ in range(num_simulations):\n",
    "        # Генерируем выборки без эффекта\n",
    "        sample1_no_effect = np.random.normal(loc=0, scale=1, size=30)\n",
    "        sample2_no_effect = np.random.normal(loc=0, scale=1, size=30)\n",
    "        \n",
    "        # Проверяем ошибку первого рода\n",
    "        stat_no_effect, p_value_no_effect = mannwhitneyu(sample1_no_effect, sample2_no_effect, alternative='two-sided')\n",
    "        if p_value_no_effect < alpha:\n",
    "            type1_error_count += 1\n",
    "            \n",
    "        # Генерируем выборки с эффектом\n",
    "        sample1_with_effect = np.random.normal(loc=0, scale=1, size=30)\n",
    "        sample2_with_effect = np.random.normal(loc=effect_size, scale=1, size=30)  # добавляем эффект к среднему\n",
    "        \n",
    "        # Проверяем мощность теста (нулевая гипотеза неверна)\n",
    "        stat_with_effect, p_value_with_effect = mannwhitneyu(sample1_with_effect, sample2_with_effect, alternative='two-sided')\n",
    "        if p_value_with_effect < alpha:\n",
    "            power_count += 1\n",
    "    \n",
    "    power_estimate = power_count / num_simulations\n",
    "    type1_error_estimate = type1_error_count / num_simulations\n",
    "    \n",
    "    return power_estimate, type1_error_estimate\n",
    "\n",
    "num_simulations = 10000  # Количество симуляций для точной оценки\n",
    "alpha = 0.05  # Уровень значимости\n",
    "effect_size = 0.5  # Примерный размер эффекта, который мы хотим обнаружить\n",
    "\n",
    "power_estimate_mw, type1_error_estimate_mw = simulate_mannwhitneyu(\n",
    "    num_simulations,\n",
    "    alpha,\n",
    "    effect_size\n",
    ")\n",
    "\n",
    "print(f\"Estimated power (Mann-Whitney U): {power_estimate_mw}\")\n",
    "print(f\"Type I error rate (Mann-Whitney U): {type1_error_estimate_mw}\")"
   ]
  },
  {
   "cell_type": "code",
   "execution_count": 4,
   "id": "21f6366b",
   "metadata": {},
   "outputs": [],
   "source": [
    "from statsmodels.stats.power import tt_ind_solve_power\n",
    "\n",
    "def calculate_power(n1, mean1, std1, n2, mean2, std2, alpha=0.05, alternative='two-sided'):\n",
    "    effect_size = (mean1 - mean2) / np.sqrt((std1**2 + std2**2) / 2)\n",
    "    power = tt_ind_solve_power(effect_size=effect_size,\n",
    "                               nobs1=n1,\n",
    "                               ratio=n2/n1,\n",
    "                               alpha=alpha,\n",
    "                               alternative=alternative)\n",
    "    return power"
   ]
  },
  {
   "cell_type": "code",
   "execution_count": 5,
   "id": "0a772ec7",
   "metadata": {},
   "outputs": [
    {
     "name": "stdout",
     "output_type": "stream",
     "text": [
      "Power of t-test: 0.9464547576360983\n",
      "Stat: 3658.0, p-value: 0.0010461719832687189, Reject Null: True\n"
     ]
    }
   ],
   "source": [
    "from scipy.stats import mannwhitneyu\n",
    "\n",
    "def mann_whitney_test(x1, x2, alternative='two-sided'):\n",
    "    stat, p_value = mannwhitneyu(x1, x2, alternative=alternative)\n",
    "    reject_null = p_value < 0.05\n",
    "    return stat, p_value, reject_null\n",
    "\n",
    "# Пример расчета мощности для нормально распределённых выборок\n",
    "sample1 = np.random.normal(loc=0, scale=1, size=100)\n",
    "sample2 = np.random.normal(loc=0.5, scale=1, size=100)\n",
    "\n",
    "power_ttest = calculate_power(len(sample1), sample1.mean(), sample1.std(),\n",
    "                              len(sample2), sample2.mean(), sample2.std())\n",
    "\n",
    "stat, p_value, reject_null = mann_whitney_test(sample1, sample2)\n",
    "\n",
    "print(f\"Power of t-test: {power_ttest}\")\n",
    "print(f\"Stat: {stat}, p-value: {p_value}, Reject Null: {reject_null}\")"
   ]
  },
  {
   "cell_type": "code",
   "execution_count": 6,
   "id": "ae2229c1",
   "metadata": {},
   "outputs": [
    {
     "name": "stdout",
     "output_type": "stream",
     "text": [
      "Exponential: t_stat=-1.9630757950252749, p_value=0.05117415884019001, reject_null=False\n",
      "Mixed Normal: t_stat=-0.1589388260143233, p_value=0.8738820768864726, reject_null=False\n",
      "Exponential Mann-Whitney: stat=4271.0, p_value=0.07507451984043349, reject_null=False\n",
      "Mixed Normal Mann-Whitney: stat=4959.0, p_value=0.9211722130536004, reject_null=False\n"
     ]
    }
   ],
   "source": [
    "# Генерация выборок из экспоненциального распределения\n",
    "exp_sample1 = np.random.exponential(scale=1.0, size=100)\n",
    "exp_sample2 = np.random.exponential(scale=1.5, size=100)\n",
    "\n",
    "# Генерация выборок из смеси нормальных распределений\n",
    "mix_normal_sample1 = np.concatenate([np.random.normal(0, 1, 50), np.random.normal(5, 1, 50)])\n",
    "mix_normal_sample2 = np.concatenate([np.random.normal(0.5, 1, 50), np.random.normal(4.5, 1, 50)])\n",
    "\n",
    "# Проверка t-критерия Стьюдента\n",
    "t_stat_exp, p_value_exp, reject_null_exp = ttest_2samp(exp_sample1, exp_sample2)\n",
    "t_stat_mix, p_value_mix, reject_null_mix = ttest_2samp(mix_normal_sample1, mix_normal_sample2)\n",
    "\n",
    "print(f\"Exponential: t_stat={t_stat_exp}, p_value={p_value_exp}, reject_null={reject_null_exp}\")\n",
    "print(f\"Mixed Normal: t_stat={t_stat_mix}, p_value={p_value_mix}, reject_null={reject_null_mix}\")\n",
    "\n",
    "# Проверка t-критерия Манна-Уитни\n",
    "mw_stat_exp, mw_p_value_exp, mw_reject_null_exp = mann_whitney_test(exp_sample1, exp_sample2)\n",
    "mw_stat_mix, mw_p_value_mix, mw_reject_null_mix = mann_whitney_test(mix_normal_sample1, mix_normal_sample2)\n",
    "\n",
    "print(f\"Exponential Mann-Whitney: stat={mw_stat_exp}, p_value={mw_p_value_exp}, reject_null={mw_reject_null_exp}\")\n",
    "print(f\"Mixed Normal Mann-Whitney: stat={mw_stat_mix}, p_value={mw_p_value_mix}, reject_null={mw_reject_null_mix}\")"
   ]
  },
  {
   "cell_type": "code",
   "execution_count": 7,
   "id": "06ba24ec",
   "metadata": {},
   "outputs": [
    {
     "name": "stdout",
     "output_type": "stream",
     "text": [
      "ttest_ind:            t = -0.467396  p = 0.642587\n",
      "ttest_2samp:          t = -0.467396  p = 0.642587\n",
      "formula:              t = -0.467396  p = 0.642587\n"
     ]
    }
   ],
   "source": [
    "from __future__ import print_function\n",
    "\n",
    "import numpy as np\n",
    "from scipy.special import stdtr\n",
    "from scipy.stats import ttest_ind\n",
    "\n",
    "a = np.random.randn(40)\n",
    "b = 4*np.random.randn(40)\n",
    "t, p = ttest_ind(a, b, equal_var=False)\n",
    "print(\"ttest_ind:            t = %g  p = %g\" % (t, p))\n",
    "\n",
    "t1, p1, tf = ttest_2samp(a,b)\n",
    "print(\"ttest_2samp:          t = %g  p = %g\" % (t1, p1))\n",
    "\n",
    "# Вычисляем описательную статистику a и b\n",
    "x_mean1 = np.mean(a)\n",
    "s1 = np.var(a, ddof=1)\n",
    "n1 = a.size\n",
    "adof = n1 - 1\n",
    "\n",
    "x_mean2 = np.mean(b)\n",
    "s2 = np.var(b, ddof=1)\n",
    "n2 = b.size\n",
    "bdof = n2 - 1\n",
    "# Используем формулу напрямую\n",
    "tf = (x_mean1 - x_mean2) / np.sqrt(s1/n1 + s2/n2)\n",
    "dof = (s1/n1 + s2/n2)**2 / (s1**2/(n1**2*adof) + s2**2/(n2**2*bdof))\n",
    "pf = 2*stdtr(dof, -np.abs(tf))\n",
    "\n",
    "print(\"formula:              t = %g  p = %g\" % (tf, pf))"
   ]
  }
 ],
 "metadata": {
  "kernelspec": {
   "display_name": "Python 3 (ipykernel)",
   "language": "python",
   "name": "python3"
  },
  "language_info": {
   "codemirror_mode": {
    "name": "ipython",
    "version": 3
   },
   "file_extension": ".py",
   "mimetype": "text/x-python",
   "name": "python",
   "nbconvert_exporter": "python",
   "pygments_lexer": "ipython3",
   "version": "3.9.16"
  }
 },
 "nbformat": 4,
 "nbformat_minor": 5
}
